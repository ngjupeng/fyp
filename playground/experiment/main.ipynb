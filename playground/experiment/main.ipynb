{
 "cells": [
  {
   "cell_type": "code",
   "execution_count": 6,
   "metadata": {},
   "outputs": [
    {
     "name": "stdout",
     "output_type": "stream",
     "text": [
      "Requirement already satisfied: numpy in /Users/ngjupeng/.pyenv/versions/3.10.10/lib/python3.10/site-packages (2.1.3)\n",
      "\n",
      "\u001b[1m[\u001b[0m\u001b[34;49mnotice\u001b[0m\u001b[1;39;49m]\u001b[0m\u001b[39;49m A new release of pip available: \u001b[0m\u001b[31;49m22.3.1\u001b[0m\u001b[39;49m -> \u001b[0m\u001b[32;49m24.3.1\u001b[0m\n",
      "\u001b[1m[\u001b[0m\u001b[34;49mnotice\u001b[0m\u001b[1;39;49m]\u001b[0m\u001b[39;49m To update, run: \u001b[0m\u001b[32;49mpip install --upgrade pip\u001b[0m\n",
      "Collecting pandas\n",
      "  Using cached pandas-2.2.3-cp310-cp310-macosx_11_0_arm64.whl (11.3 MB)\n",
      "Requirement already satisfied: numpy>=1.22.4 in /Users/ngjupeng/.pyenv/versions/3.10.10/lib/python3.10/site-packages (from pandas) (2.1.3)\n",
      "Requirement already satisfied: python-dateutil>=2.8.2 in /Users/ngjupeng/.pyenv/versions/3.10.10/lib/python3.10/site-packages (from pandas) (2.9.0.post0)\n",
      "Collecting tzdata>=2022.7\n",
      "  Using cached tzdata-2024.2-py2.py3-none-any.whl (346 kB)\n",
      "Collecting pytz>=2020.1\n",
      "  Using cached pytz-2024.2-py2.py3-none-any.whl (508 kB)\n",
      "Requirement already satisfied: six>=1.5 in /Users/ngjupeng/.pyenv/versions/3.10.10/lib/python3.10/site-packages (from python-dateutil>=2.8.2->pandas) (1.16.0)\n",
      "Installing collected packages: pytz, tzdata, pandas\n",
      "Successfully installed pandas-2.2.3 pytz-2024.2 tzdata-2024.2\n",
      "\n",
      "\u001b[1m[\u001b[0m\u001b[34;49mnotice\u001b[0m\u001b[1;39;49m]\u001b[0m\u001b[39;49m A new release of pip available: \u001b[0m\u001b[31;49m22.3.1\u001b[0m\u001b[39;49m -> \u001b[0m\u001b[32;49m24.3.1\u001b[0m\n",
      "\u001b[1m[\u001b[0m\u001b[34;49mnotice\u001b[0m\u001b[1;39;49m]\u001b[0m\u001b[39;49m To update, run: \u001b[0m\u001b[32;49mpip install --upgrade pip\u001b[0m\n",
      "Collecting torch\n",
      "  Using cached torch-2.5.1-cp310-none-macosx_11_0_arm64.whl (63.9 MB)\n",
      "Collecting fsspec\n",
      "  Using cached fsspec-2024.10.0-py3-none-any.whl (179 kB)\n",
      "Collecting filelock\n",
      "  Using cached filelock-3.16.1-py3-none-any.whl (16 kB)\n",
      "Collecting sympy==1.13.1\n",
      "  Using cached sympy-1.13.1-py3-none-any.whl (6.2 MB)\n",
      "Collecting jinja2\n",
      "  Using cached jinja2-3.1.4-py3-none-any.whl (133 kB)\n",
      "Requirement already satisfied: typing-extensions>=4.8.0 in /Users/ngjupeng/.pyenv/versions/3.10.10/lib/python3.10/site-packages (from torch) (4.12.2)\n",
      "Collecting networkx\n",
      "  Using cached networkx-3.4.2-py3-none-any.whl (1.7 MB)\n",
      "Collecting mpmath<1.4,>=1.1.0\n",
      "  Using cached mpmath-1.3.0-py3-none-any.whl (536 kB)\n",
      "Collecting MarkupSafe>=2.0\n",
      "  Using cached MarkupSafe-3.0.2-cp310-cp310-macosx_11_0_arm64.whl (12 kB)\n",
      "Installing collected packages: mpmath, sympy, networkx, MarkupSafe, fsspec, filelock, jinja2, torch\n",
      "Successfully installed MarkupSafe-3.0.2 filelock-3.16.1 fsspec-2024.10.0 jinja2-3.1.4 mpmath-1.3.0 networkx-3.4.2 sympy-1.13.1 torch-2.5.1\n",
      "\n",
      "\u001b[1m[\u001b[0m\u001b[34;49mnotice\u001b[0m\u001b[1;39;49m]\u001b[0m\u001b[39;49m A new release of pip available: \u001b[0m\u001b[31;49m22.3.1\u001b[0m\u001b[39;49m -> \u001b[0m\u001b[32;49m24.3.1\u001b[0m\n",
      "\u001b[1m[\u001b[0m\u001b[34;49mnotice\u001b[0m\u001b[1;39;49m]\u001b[0m\u001b[39;49m To update, run: \u001b[0m\u001b[32;49mpip install --upgrade pip\u001b[0m\n",
      "Collecting scikit-learn\n",
      "  Using cached scikit_learn-1.5.2-cp310-cp310-macosx_12_0_arm64.whl (11.0 MB)\n",
      "Collecting threadpoolctl>=3.1.0\n",
      "  Using cached threadpoolctl-3.5.0-py3-none-any.whl (18 kB)\n",
      "Collecting joblib>=1.2.0\n",
      "  Using cached joblib-1.4.2-py3-none-any.whl (301 kB)\n",
      "Requirement already satisfied: numpy>=1.19.5 in /Users/ngjupeng/.pyenv/versions/3.10.10/lib/python3.10/site-packages (from scikit-learn) (2.1.3)\n",
      "Collecting scipy>=1.6.0\n",
      "  Using cached scipy-1.14.1-cp310-cp310-macosx_14_0_arm64.whl (23.1 MB)\n",
      "Installing collected packages: threadpoolctl, scipy, joblib, scikit-learn\n",
      "Successfully installed joblib-1.4.2 scikit-learn-1.5.2 scipy-1.14.1 threadpoolctl-3.5.0\n",
      "\n",
      "\u001b[1m[\u001b[0m\u001b[34;49mnotice\u001b[0m\u001b[1;39;49m]\u001b[0m\u001b[39;49m A new release of pip available: \u001b[0m\u001b[31;49m22.3.1\u001b[0m\u001b[39;49m -> \u001b[0m\u001b[32;49m24.3.1\u001b[0m\n",
      "\u001b[1m[\u001b[0m\u001b[34;49mnotice\u001b[0m\u001b[1;39;49m]\u001b[0m\u001b[39;49m To update, run: \u001b[0m\u001b[32;49mpip install --upgrade pip\u001b[0m\n",
      "Collecting matplotlib\n",
      "  Using cached matplotlib-3.9.2-cp310-cp310-macosx_11_0_arm64.whl (7.8 MB)\n",
      "Collecting kiwisolver>=1.3.1\n",
      "  Using cached kiwisolver-1.4.7-cp310-cp310-macosx_11_0_arm64.whl (64 kB)\n",
      "Collecting cycler>=0.10\n",
      "  Using cached cycler-0.12.1-py3-none-any.whl (8.3 kB)\n",
      "Requirement already satisfied: packaging>=20.0 in /Users/ngjupeng/.pyenv/versions/3.10.10/lib/python3.10/site-packages (from matplotlib) (24.2)\n",
      "Collecting pyparsing>=2.3.1\n",
      "  Using cached pyparsing-3.2.0-py3-none-any.whl (106 kB)\n",
      "Collecting contourpy>=1.0.1\n",
      "  Using cached contourpy-1.3.1-cp310-cp310-macosx_11_0_arm64.whl (253 kB)\n",
      "Collecting fonttools>=4.22.0\n",
      "  Using cached fonttools-4.55.0-cp310-cp310-macosx_10_9_universal2.whl (2.8 MB)\n",
      "Requirement already satisfied: python-dateutil>=2.7 in /Users/ngjupeng/.pyenv/versions/3.10.10/lib/python3.10/site-packages (from matplotlib) (2.9.0.post0)\n",
      "Requirement already satisfied: numpy>=1.23 in /Users/ngjupeng/.pyenv/versions/3.10.10/lib/python3.10/site-packages (from matplotlib) (2.1.3)\n",
      "Collecting pillow>=8\n",
      "  Using cached pillow-11.0.0-cp310-cp310-macosx_11_0_arm64.whl (3.0 MB)\n",
      "Requirement already satisfied: six>=1.5 in /Users/ngjupeng/.pyenv/versions/3.10.10/lib/python3.10/site-packages (from python-dateutil>=2.7->matplotlib) (1.16.0)\n",
      "Installing collected packages: pyparsing, pillow, kiwisolver, fonttools, cycler, contourpy, matplotlib\n",
      "Successfully installed contourpy-1.3.1 cycler-0.12.1 fonttools-4.55.0 kiwisolver-1.4.7 matplotlib-3.9.2 pillow-11.0.0 pyparsing-3.2.0\n",
      "\n",
      "\u001b[1m[\u001b[0m\u001b[34;49mnotice\u001b[0m\u001b[1;39;49m]\u001b[0m\u001b[39;49m A new release of pip available: \u001b[0m\u001b[31;49m22.3.1\u001b[0m\u001b[39;49m -> \u001b[0m\u001b[32;49m24.3.1\u001b[0m\n",
      "\u001b[1m[\u001b[0m\u001b[34;49mnotice\u001b[0m\u001b[1;39;49m]\u001b[0m\u001b[39;49m To update, run: \u001b[0m\u001b[32;49mpip install --upgrade pip\u001b[0m\n"
     ]
    }
   ],
   "source": [
    "!pip3 install numpy\n",
    "!pip3 install pandas\n",
    "!pip3 install torch\n",
    "!pip3 install scikit-learn\n",
    "!pip3 install matplotlib\n"
   ]
  },
  {
   "cell_type": "code",
   "execution_count": 318,
   "metadata": {},
   "outputs": [],
   "source": [
    "import numpy as np\n",
    "import pandas as pd\n",
    "import torch\n",
    "import torch.nn as nn\n",
    "from torch.utils.data import Dataset, DataLoader\n",
    "from sklearn.preprocessing import StandardScaler\n",
    "import matplotlib.pyplot as plt\n"
   ]
  },
  {
   "cell_type": "code",
   "execution_count": 319,
   "metadata": {},
   "outputs": [],
   "source": [
    "device = torch.device(\"cuda\" if torch.cuda.is_available() else \"cpu\")"
   ]
  },
  {
   "cell_type": "code",
   "execution_count": 313,
   "metadata": {},
   "outputs": [],
   "source": [
    "\n",
    "class TurbofanDataset(Dataset):\n",
    "    def __init__(self, data, sequence_length=50):\n",
    "        self.sequence_length = sequence_length\n",
    "\n",
    "        # Extract features (sensor measurements and operational settings)\n",
    "        self.features = data[:, 2:26].astype(float)  # columns 3-26\n",
    "\n",
    "        # Calculate RUL for training data\n",
    "        max_cycles = pd.DataFrame(data[:, :2].astype(int)).groupby(0)[1].max()\n",
    "        rul = (\n",
    "            pd.DataFrame(data[:, :2].astype(int))\n",
    "            .groupby(0)[1]\n",
    "            .transform(lambda x: max_cycles[x.name] - x)\n",
    "        )\n",
    "        self.targets = rul.values.reshape(-1, 1)\n",
    "\n",
    "        # Normalize features\n",
    "        self.scaler = StandardScaler()\n",
    "        self.features = self.scaler.fit_transform(self.features)\n",
    "\n",
    "        # Prepare sequences\n",
    "        self.prepare_sequences()\n",
    "\n",
    "    def prepare_sequences(self):\n",
    "        # Group by engine unit\n",
    "        df = pd.DataFrame(np.hstack((self.features, self.targets)))\n",
    "        engine_groups = df.groupby(df.index // self.sequence_length)\n",
    "\n",
    "        sequences = []\n",
    "        targets = []\n",
    "\n",
    "        for _, group in engine_groups:\n",
    "            if len(group) >= self.sequence_length:\n",
    "                sequences.append(group.iloc[: self.sequence_length, :-1].values)\n",
    "                targets.append(group.iloc[self.sequence_length - 1, -1])\n",
    "\n",
    "        self.sequences = torch.FloatTensor(np.array(sequences))\n",
    "        self.targets = torch.FloatTensor(np.array(targets))\n",
    "\n",
    "    def __len__(self):\n",
    "        return len(self.sequences)\n",
    "\n",
    "    def __getitem__(self, idx):\n",
    "        return self.sequences[idx], self.targets[idx]"
   ]
  },
  {
   "cell_type": "code",
   "execution_count": 314,
   "metadata": {},
   "outputs": [],
   "source": [
    "class Predictor(nn.Module):\n",
    "    def __init__(self, input_size=24):\n",
    "        super(Predictor, self).__init__()\n",
    "        self.layers = nn.Sequential(\n",
    "            nn.Linear(input_size, 24),\n",
    "            nn.ReLU(),\n",
    "            nn.Linear(24, 24),\n",
    "            nn.ReLU(),\n",
    "            nn.Linear(24, 24),\n",
    "            nn.ReLU(),\n",
    "            nn.Linear(24, 1),\n",
    "        )\n",
    "\n",
    "    def forward(self, x):\n",
    "        return self.layers(x)"
   ]
  },
  {
   "cell_type": "code",
   "execution_count": 315,
   "metadata": {},
   "outputs": [],
   "source": [
    "def train_model(model, train_loader, criterion, optimizer, device):\n",
    "    model.train()\n",
    "    total_loss = 0\n",
    "    for sequences, targets in train_loader:\n",
    "        sequences, targets = sequences.to(device), targets.to(device)\n",
    "        optimizer.zero_grad()\n",
    "        outputs = model(sequences)\n",
    "        loss = criterion(outputs, targets)\n",
    "        loss.backward()\n",
    "        optimizer.step()\n",
    "        total_loss += loss.item()\n",
    "    return total_loss / len(train_loader)\n"
   ]
  },
  {
   "cell_type": "code",
   "execution_count": 316,
   "metadata": {},
   "outputs": [],
   "source": [
    "def evaluate_model(model, test_loader, device):\n",
    "    model.eval()\n",
    "    criterion = nn.MSELoss()\n",
    "    total_loss = 0\n",
    "    with torch.no_grad():\n",
    "        for sequences, targets in test_loader:\n",
    "            sequences, targets = sequences.to(device), targets.to(device)\n",
    "            outputs = model(sequences)\n",
    "            loss = criterion(outputs, targets)\n",
    "            total_loss += loss.item()\n",
    "    return total_loss / len(test_loader)\n",
    "\n"
   ]
  },
  {
   "cell_type": "markdown",
   "metadata": {},
   "source": [
    "## Single node trainin"
   ]
  },
  {
   "cell_type": "markdown",
   "metadata": {},
   "source": [
    "### Single node with FD001"
   ]
  },
  {
   "cell_type": "code",
   "execution_count": 325,
   "metadata": {},
   "outputs": [],
   "source": [
    "# Load data\n",
    "train_data = np.loadtxt(\"./CMAPSSData/train_FD001.txt\")\n",
    "test_data = np.loadtxt(\"./CMAPSSData/test_FD001.txt\")\n",
    "\n",
    "# Create datasets\n",
    "train_dataset = TurbofanDataset(train_data)\n",
    "test_dataset = TurbofanDataset(test_data)"
   ]
  },
  {
   "cell_type": "code",
   "execution_count": 333,
   "metadata": {},
   "outputs": [
    {
     "name": "stdout",
     "output_type": "stream",
     "text": [
      "Epoch 1, Test Loss: 9156.0825\n",
      "Epoch 2, Test Loss: 9138.3514\n",
      "Epoch 3, Test Loss: 9107.9464\n",
      "Epoch 4, Test Loss: 9049.2185\n",
      "Epoch 5, Test Loss: 8934.2520\n",
      "Epoch 6, Test Loss: 8709.6241\n",
      "Epoch 7, Test Loss: 8308.5934\n",
      "Epoch 8, Test Loss: 7664.1008\n",
      "Epoch 9, Test Loss: 6765.8792\n",
      "Epoch 10, Test Loss: 5696.5160\n"
     ]
    }
   ],
   "source": [
    "single_model = Predictor().to(device)\n",
    "train_loader = DataLoader(train_dataset, batch_size=32, shuffle=True)\n",
    "test_loader = DataLoader(test_dataset, batch_size=32)\n",
    "\n",
    "optimizer = torch.optim.Adam(single_model.parameters())\n",
    "criterion = nn.MSELoss()\n",
    "single_losses = []\n",
    "\n",
    "for epoch in range(10):\n",
    "    train_loss = train_model(\n",
    "        single_model, train_loader, criterion, optimizer, device\n",
    "    )\n",
    "    test_loss = evaluate_model(single_model, test_loader, device)\n",
    "    single_losses.append(test_loss)\n",
    "    print(f\"Epoch {epoch+1}, Test Loss: {test_loss:.4f}\")"
   ]
  },
  {
   "cell_type": "code",
   "execution_count": 334,
   "metadata": {},
   "outputs": [
    {
     "data": {
      "text/plain": [
       "Text(0.5, 1.0, 'Model Performance Comparison')"
      ]
     },
     "execution_count": 334,
     "metadata": {},
     "output_type": "execute_result"
    },
    {
     "data": {
      "image/png": "[encoded data removed]",
      "text/plain": [
       "<Figure size 1000x600 with 1 Axes>"
      ]
     },
     "metadata": {},
     "output_type": "display_data"
    }
   ],
   "source": [
    "# Plot results\n",
    "plt.figure(figsize=(10, 6))\n",
    "plt.plot(single_losses, label=\"Single Node\")\n",
    "plt.xlabel(\"Epoch/Round\")\n",
    "plt.ylabel(\"Test Loss (MSE)\")\n",
    "plt.title(\"Model Performance Comparison\")"
   ]
  },
  {
   "cell_type": "markdown",
   "metadata": {},
   "source": [
    "### Single node with FD001 and FD002"
   ]
  },
  {
   "cell_type": "code",
   "execution_count": 330,
   "metadata": {},
   "outputs": [
    {
     "data": {
      "text/plain": [
       "412"
      ]
     },
     "execution_count": 330,
     "metadata": {},
     "output_type": "execute_result"
    }
   ],
   "source": [
    "train_dataset = TurbofanDataset(np.loadtxt(\"./CMAPSSData/train_FD001.txt\"))\n",
    "len(train_dataset)"
   ]
  },
  {
   "cell_type": "code",
   "execution_count": 335,
   "metadata": {},
   "outputs": [],
   "source": [
    "train_data_001 = np.loadtxt(\"./CMAPSSData/train_FD001.txt\")\n",
    "train_data_002 = np.loadtxt(\"./CMAPSSData/train_FD002.txt\")\n",
    "test_data = np.loadtxt(\"./CMAPSSData/test_FD001.txt\")"
   ]
  },
  {
   "cell_type": "code",
   "execution_count": 336,
   "metadata": {},
   "outputs": [],
   "source": [
    "train_data_combined = np.vstack((train_data_001, train_data_002))"
   ]
  },
  {
   "cell_type": "code",
   "execution_count": 337,
   "metadata": {},
   "outputs": [
    {
     "data": {
      "text/plain": [
       "74390"
      ]
     },
     "execution_count": 337,
     "metadata": {},
     "output_type": "execute_result"
    }
   ],
   "source": [
    "len(train_data_combined)"
   ]
  },
  {
   "cell_type": "code",
   "execution_count": 46,
   "metadata": {},
   "outputs": [],
   "source": [
    "train_dataset = TurbofanDataset(train_data_combined)\n",
    "test_dataset = TurbofanDataset(test_data)"
   ]
  },
  {
   "cell_type": "code",
   "execution_count": 47,
   "metadata": {},
   "outputs": [
    {
     "name": "stdout",
     "output_type": "stream",
     "text": [
      "Training dataset size: 1487 sequences\n",
      "Test dataset size: 261 sequences\n"
     ]
    }
   ],
   "source": [
    "print(f\"Training dataset size: {len(train_dataset)} sequences\")\n",
    "print(f\"Test dataset size: {len(test_dataset)} sequences\")"
   ]
  },
  {
   "cell_type": "code",
   "execution_count": 48,
   "metadata": {},
   "outputs": [],
   "source": [
    "single_model = Predictor().to(device)\n",
    "train_loader = DataLoader(train_dataset, batch_size=32, shuffle=True)\n",
    "test_loader = DataLoader(test_dataset, batch_size=32)"
   ]
  },
  {
   "cell_type": "code",
   "execution_count": 338,
   "metadata": {},
   "outputs": [
    {
     "data": {
      "text/plain": [
       "13"
      ]
     },
     "execution_count": 338,
     "metadata": {},
     "output_type": "execute_result"
    }
   ],
   "source": [
    "len(train_loader)"
   ]
  },
  {
   "cell_type": "code",
   "execution_count": 49,
   "metadata": {},
   "outputs": [
    {
     "name": "stderr",
     "output_type": "stream",
     "text": [
      "/Users/ngjupeng/.pyenv/versions/3.10.10/lib/python3.10/site-packages/torch/nn/modules/loss.py:608: UserWarning: Using a target size (torch.Size([32])) that is different to the input size (torch.Size([32, 50, 1])). This will likely lead to incorrect results due to broadcasting. Please ensure they have the same size.\n",
      "  return F.mse_loss(input, target, reduction=self.reduction)\n",
      "/Users/ngjupeng/.pyenv/versions/3.10.10/lib/python3.10/site-packages/torch/nn/modules/loss.py:608: UserWarning: Using a target size (torch.Size([15])) that is different to the input size (torch.Size([15, 50, 1])). This will likely lead to incorrect results due to broadcasting. Please ensure they have the same size.\n",
      "  return F.mse_loss(input, target, reduction=self.reduction)\n",
      "/Users/ngjupeng/.pyenv/versions/3.10.10/lib/python3.10/site-packages/torch/nn/modules/loss.py:608: UserWarning: Using a target size (torch.Size([5])) that is different to the input size (torch.Size([5, 50, 1])). This will likely lead to incorrect results due to broadcasting. Please ensure they have the same size.\n",
      "  return F.mse_loss(input, target, reduction=self.reduction)\n"
     ]
    },
    {
     "name": "stdout",
     "output_type": "stream",
     "text": [
      "Epoch 1, Test Loss: 9097.9036\n",
      "Epoch 2, Test Loss: 8463.8148\n",
      "Epoch 3, Test Loss: 6008.2806\n",
      "Epoch 4, Test Loss: 5800.1673\n",
      "Epoch 5, Test Loss: 5626.7356\n",
      "Epoch 6, Test Loss: 5497.4736\n",
      "Epoch 7, Test Loss: 5322.6119\n",
      "Epoch 8, Test Loss: 5312.8855\n",
      "Epoch 9, Test Loss: 5243.6541\n",
      "Epoch 10, Test Loss: 5273.1433\n"
     ]
    }
   ],
   "source": [
    "optimizer = torch.optim.Adam(single_model.parameters())\n",
    "criterion = nn.MSELoss()\n",
    "single_losses = []\n",
    "\n",
    "for epoch in range(10):\n",
    "    train_loss = train_model(\n",
    "        single_model, train_loader, criterion, optimizer, device\n",
    "    )\n",
    "    test_loss = evaluate_model(single_model, test_loader, device)\n",
    "    single_losses.append(test_loss)\n",
    "    print(f\"Epoch {epoch+1}, Test Loss: {test_loss:.4f}\")"
   ]
  },
  {
   "cell_type": "code",
   "execution_count": 50,
   "metadata": {},
   "outputs": [
    {
     "data": {
      "text/plain": [
       "Text(0.5, 1.0, 'Model Performance Comparison')"
      ]
     },
     "execution_count": 50,
     "metadata": {},
     "output_type": "execute_result"
    },
    {
     "data": {
      "image/png": "[encoded data removed]",
      "text/plain": [
       "<Figure size 1000x600 with 1 Axes>"
      ]
     },
     "metadata": {},
     "output_type": "display_data"
    }
   ],
   "source": [
    "# Plot results\n",
    "plt.figure(figsize=(10, 6))\n",
    "plt.plot(single_losses, label=\"Single Node\")\n",
    "plt.xlabel(\"Epoch/Round\")\n",
    "plt.ylabel(\"Test Loss (MSE)\")\n",
    "plt.title(\"Model Performance Comparison\")"
   ]
  },
  {
   "cell_type": "markdown",
   "metadata": {},
   "source": [
    "### Single node with FD001, 002, 003 and 004"
   ]
  },
  {
   "cell_type": "code",
   "execution_count": 59,
   "metadata": {},
   "outputs": [],
   "source": [
    "train_data_001 = np.loadtxt(\"./CMAPSSData/The experimental results demonstrate that the federated learning approach achieved comparable model accuracy to the centralized single-node implementation, despite each participant utilizing only a fraction of the total dataset. This finding is particularly significant as it highlights the efficiency of federated learning in scenarios where data is distributed across multiple entities. The approach proves especially valuable for organizations or institutions that individually possess limited datasets but seek to develop robust models with high performance characteristics. Furthermore, federated learning's inherent privacy-preserving mechanism addresses critical data security concerns, as participants can contribute to model development without sharing their raw data. This makes it an ideal solution for sensitive industries such as healthcare, finance, or industrial applications where data privacy regulations or competitive advantages necessitate strict data protection while still enabling collaborative model improvement. The successful implementation demonstrates that federated learning effectively bridges the gap between data privacy requirements and the need for large-scale machine learning model training..txt\")\n",
    "train_data_002 = np.loadtxt(\"./CMAPSSData/train_FD002.txt\")\n",
    "train_data_003 = np.loadtxt(\"./CMAPSSData/train_FD003.txt\")\n",
    "test_data = np.loadtxt(\"./CMAPSSData/test_FD001.txt\")"
   ]
  },
  {
   "cell_type": "code",
   "execution_count": 60,
   "metadata": {},
   "outputs": [],
   "source": [
    "train_data_combined = np.vstack((train_data_001, train_data_002, train_data_003))"
   ]
  },
  {
   "cell_type": "code",
   "execution_count": 61,
   "metadata": {},
   "outputs": [],
   "source": [
    "train_dataset = TurbofanDataset(train_data_combined)\n",
    "test_dataset = TurbofanDataset(test_data)"
   ]
  },
  {
   "cell_type": "code",
   "execution_count": 62,
   "metadata": {},
   "outputs": [
    {
     "name": "stdout",
     "output_type": "stream",
     "text": [
      "Training dataset size: 1982 sequences\n",
      "Test dataset size: 261 sequences\n"
     ]
    }
   ],
   "source": [
    "print(f\"Training dataset size: {len(train_dataset)} sequences\")\n",
    "print(f\"Test dataset size: {len(test_dataset)} sequences\")"
   ]
  },
  {
   "cell_type": "code",
   "execution_count": 63,
   "metadata": {},
   "outputs": [],
   "source": [
    "single_model = Predictor().to(device)\n",
    "train_loader = DataLoader(train_dataset, batch_size=32, shuffle=True)\n",
    "test_loader = DataLoader(test_dataset, batch_size=32)"
   ]
  },
  {
   "cell_type": "code",
   "execution_count": 64,
   "metadata": {},
   "outputs": [
    {
     "name": "stderr",
     "output_type": "stream",
     "text": [
      "/Users/ngjupeng/.pyenv/versions/3.10.10/lib/python3.10/site-packages/torch/nn/modules/loss.py:608: UserWarning: Using a target size (torch.Size([32])) that is different to the input size (torch.Size([32, 50, 1])). This will likely lead to incorrect results due to broadcasting. Please ensure they have the same size.\n",
      "  return F.mse_loss(input, target, reduction=self.reduction)\n",
      "/Users/ngjupeng/.pyenv/versions/3.10.10/lib/python3.10/site-packages/torch/nn/modules/loss.py:608: UserWarning: Using a target size (torch.Size([30])) that is different to the input size (torch.Size([30, 50, 1])). This will likely lead to incorrect results due to broadcasting. Please ensure they have the same size.\n",
      "  return F.mse_loss(input, target, reduction=self.reduction)\n",
      "/Users/ngjupeng/.pyenv/versions/3.10.10/lib/python3.10/site-packages/torch/nn/modules/loss.py:608: UserWarning: Using a target size (torch.Size([5])) that is different to the input size (torch.Size([5, 50, 1])). This will likely lead to incorrect results due to broadcasting. Please ensure they have the same size.\n",
      "  return F.mse_loss(input, target, reduction=self.reduction)\n"
     ]
    },
    {
     "name": "stdout",
     "output_type": "stream",
     "text": [
      "Epoch 1, Test Loss: 8980.6023\n",
      "Epoch 2, Test Loss: 7241.8624\n",
      "Epoch 3, Test Loss: 5564.7167\n",
      "Epoch 4, Test Loss: 5460.4392\n",
      "Epoch 5, Test Loss: 5222.3516\n",
      "Epoch 6, Test Loss: 5132.5300\n",
      "Epoch 7, Test Loss: 4981.5414\n",
      "Epoch 8, Test Loss: 4920.5113\n",
      "Epoch 9, Test Loss: 4853.5980\n",
      "Epoch 10, Test Loss: 4897.9817\n"
     ]
    }
   ],
   "source": [
    "optimizer = torch.optim.Adam(single_model.parameters())\n",
    "criterion = nn.MSELoss()\n",
    "single_losses = []\n",
    "\n",
    "for epoch in range(10):\n",
    "    train_loss = train_model(\n",
    "        single_model, train_loader, criterion, optimizer, device\n",
    "    )\n",
    "    test_loss = evaluate_model(single_model, test_loader, device)\n",
    "    single_losses.append(test_loss)\n",
    "    print(f\"Epoch {epoch+1}, Test Loss: {test_loss:.4f}\")"
   ]
  },
  {
   "cell_type": "code",
   "execution_count": 65,
   "metadata": {},
   "outputs": [
    {
     "data": {
      "text/plain": [
       "Text(0.5, 1.0, 'Model Performance Comparison')"
      ]
     },
     "execution_count": 65,
     "metadata": {},
     "output_type": "execute_result"
    },
    {
     "data": {
      "image/png": "[encoded data removed]",
      "text/plain": [
       "<Figure size 1000x600 with 1 Axes>"
      ]
     },
     "metadata": {},
     "output_type": "display_data"
    }
   ],
   "source": [
    "# Plot results\n",
    "plt.figure(figsize=(10, 6))\n",
    "plt.plot(single_losses, label=\"Single Node\")\n",
    "plt.xlabel(\"Epoch/Round\")\n",
    "plt.ylabel(\"Test Loss (MSE)\")\n",
    "plt.title(\"Model Performance Comparison\")"
   ]
  },
  {
   "cell_type": "markdown",
   "metadata": {},
   "source": [
    "## Federated learning with 3 participants"
   ]
  },
  {
   "cell_type": "code",
   "execution_count": 82,
   "metadata": {},
   "outputs": [
    {
     "name": "stdout",
     "output_type": "stream",
     "text": [
      "Collecting lightphe\n",
      "  Downloading lightphe-0.0.8-py3-none-any.whl (53 kB)\n",
      "\u001b[2K     \u001b[90m━━━━━━━━━━━━━━━━━━━━━━━━━━━━━━━━━━━━━━━━\u001b[0m \u001b[32m53.5/53.5 kB\u001b[0m \u001b[31m1.1 MB/s\u001b[0m eta \u001b[36m0:00:00\u001b[0ma \u001b[36m0:00:01\u001b[0m\n",
      "\u001b[?25hCollecting pytest==7.1.2\n",
      "  Downloading pytest-7.1.2-py3-none-any.whl (297 kB)\n",
      "\u001b[2K     \u001b[90m━━━━━━━━━━━━━━━━━━━━━━━━━━━━━━━━━━━━━━━\u001b[0m \u001b[32m297.0/297.0 kB\u001b[0m \u001b[31m7.1 MB/s\u001b[0m eta \u001b[36m0:00:00\u001b[0ma \u001b[36m0:00:01\u001b[0m\n",
      "\u001b[?25hCollecting sympy==1.12\n",
      "  Downloading sympy-1.12-py3-none-any.whl (5.7 MB)\n",
      "\u001b[2K     \u001b[90m━━━━━━━━━━━━━━━━━━━━━━━━━━━━━━━━━━━━━━━━\u001b[0m \u001b[32m5.7/5.7 MB\u001b[0m \u001b[31m6.6 MB/s\u001b[0m eta \u001b[36m0:00:00\u001b[0ma \u001b[36m0:00:01\u001b[0m\n",
      "\u001b[?25hCollecting tomli>=1.0.0\n",
      "  Downloading tomli-2.1.0-py3-none-any.whl (13 kB)\n",
      "Collecting iniconfig\n",
      "  Downloading iniconfig-2.0.0-py3-none-any.whl (5.9 kB)\n",
      "Collecting pluggy<2.0,>=0.12\n",
      "  Downloading pluggy-1.5.0-py3-none-any.whl (20 kB)\n",
      "Collecting py>=1.8.2\n",
      "  Downloading py-1.11.0-py2.py3-none-any.whl (98 kB)\n",
      "\u001b[2K     \u001b[90m━━━━━━━━━━━━━━━━━━━━━━━━━━━━━━━━━━━━━━━━\u001b[0m \u001b[32m98.7/98.7 kB\u001b[0m \u001b[31m7.1 MB/s\u001b[0m eta \u001b[36m0:00:00\u001b[0m\n",
      "\u001b[?25hCollecting attrs>=19.2.0\n",
      "  Downloading attrs-24.2.0-py3-none-any.whl (63 kB)\n",
      "\u001b[2K     \u001b[90m━━━━━━━━━━━━━━━━━━━━━━━━━━━━━━━━━━━━━━━━\u001b[0m \u001b[32m63.0/63.0 kB\u001b[0m \u001b[31m5.5 MB/s\u001b[0m eta \u001b[36m0:00:00\u001b[0m\n",
      "\u001b[?25hRequirement already satisfied: packaging in /Users/ngjupeng/.pyenv/versions/3.10.10/lib/python3.10/site-packages (from pytest==7.1.2->lightphe) (24.2)\n",
      "Requirement already satisfied: mpmath>=0.19 in /Users/ngjupeng/.pyenv/versions/3.10.10/lib/python3.10/site-packages (from sympy==1.12->lightphe) (1.3.0)\n",
      "Installing collected packages: tomli, sympy, py, pluggy, iniconfig, attrs, pytest, lightphe\n",
      "  Attempting uninstall: sympy\n",
      "    Found existing installation: sympy 1.13.1\n",
      "    Uninstalling sympy-1.13.1:\n",
      "      Successfully uninstalled sympy-1.13.1\n",
      "\u001b[31mERROR: pip's dependency resolver does not currently take into account all the packages that are installed. This behaviour is the source of the following dependency conflicts.\n",
      "torch 2.5.1 requires sympy==1.13.1; python_version >= \"3.9\", but you have sympy 1.12 which is incompatible.\u001b[0m\u001b[31m\n",
      "\u001b[0mSuccessfully installed attrs-24.2.0 iniconfig-2.0.0 lightphe-0.0.8 pluggy-1.5.0 py-1.11.0 pytest-7.1.2 sympy-1.12 tomli-2.1.0\n",
      "\n",
      "\u001b[1m[\u001b[0m\u001b[34;49mnotice\u001b[0m\u001b[1;39;49m]\u001b[0m\u001b[39;49m A new release of pip available: \u001b[0m\u001b[31;49m22.3.1\u001b[0m\u001b[39;49m -> \u001b[0m\u001b[32;49m24.3.1\u001b[0m\n",
      "\u001b[1m[\u001b[0m\u001b[34;49mnotice\u001b[0m\u001b[1;39;49m]\u001b[0m\u001b[39;49m To update, run: \u001b[0m\u001b[32;49mpip install --upgrade pip\u001b[0m\n"
     ]
    }
   ],
   "source": [
    "!pip3 install lightphe"
   ]
  },
  {
   "cell_type": "code",
   "execution_count": 71,
   "metadata": {},
   "outputs": [],
   "source": [
    "import subprocess\n",
    "import json"
   ]
  },
  {
   "cell_type": "code",
   "execution_count": 68,
   "metadata": {},
   "outputs": [],
   "source": [
    "train_data = np.loadtxt(\"./CMAPSSData/train_FD001.txt\")\n",
    "test_data = np.loadtxt(\"./CMAPSSData/test_FD001.txt\")\n",
    "\n",
    "# Create datasets\n",
    "train_dataset = TurbofanDataset(train_data)\n",
    "test_dataset = TurbofanDataset(test_data)"
   ]
  },
  {
   "cell_type": "code",
   "execution_count": 69,
   "metadata": {},
   "outputs": [],
   "source": [
    "def federated_training(\n",
    "    models, train_loaders, test_loader, num_rounds=10, device=\"cuda\"\n",
    "):\n",
    "    losses = []\n",
    "\n",
    "    for round in range(num_rounds):\n",
    "        # Local training\n",
    "        local_weights = []\n",
    "        for i in range(len(models)):\n",
    "            optimizer = torch.optim.Adam(models[i].parameters())\n",
    "            criterion = nn.MSELoss()\n",
    "            train_loss = train_model(\n",
    "                models[i], train_loaders[i], criterion, optimizer, device\n",
    "            )\n",
    "            local_weights.append([param.data for param in models[i].parameters()])\n",
    "\n",
    "        # Aggregate weights (FedAvg)\n",
    "        averaged_weights = []\n",
    "        for param_idx in range(len(local_weights[0])):\n",
    "            averaged_weights.append(\n",
    "                sum(weights[param_idx] for weights in local_weights)\n",
    "                / len(local_weights)\n",
    "            )\n",
    "\n",
    "        # Update all models with averaged weights\n",
    "        for model in models:\n",
    "            for param, avg_weight in zip(model.parameters(), averaged_weights):\n",
    "                param.data = avg_weight.clone()\n",
    "\n",
    "        # Evaluate\n",
    "        test_loss = evaluate_model(models[0], test_loader, device)\n",
    "        losses.append(test_loss)\n",
    "        print(f\"Round {round+1}, Test Loss: {test_loss:.4f}\")\n",
    "\n",
    "    return losses\n",
    "\n"
   ]
  },
  {
   "cell_type": "code",
   "execution_count": 70,
   "metadata": {},
   "outputs": [
    {
     "name": "stdout",
     "output_type": "stream",
     "text": [
      "\n",
      "Federated Training (3 participants):\n",
      "Round 1, Test Loss: 9177.8728\n",
      "Round 2, Test Loss: 9174.3020\n",
      "Round 3, Test Loss: 9170.3661\n",
      "Round 4, Test Loss: 9165.4908\n",
      "Round 5, Test Loss: 9159.4115\n",
      "Round 6, Test Loss: 9151.9099\n"
     ]
    },
    {
     "name": "stderr",
     "output_type": "stream",
     "text": [
      "/Users/ngjupeng/.pyenv/versions/3.10.10/lib/python3.10/site-packages/torch/nn/modules/loss.py:608: UserWarning: Using a target size (torch.Size([32])) that is different to the input size (torch.Size([32, 50, 1])). This will likely lead to incorrect results due to broadcasting. Please ensure they have the same size.\n",
      "  return F.mse_loss(input, target, reduction=self.reduction)\n",
      "/Users/ngjupeng/.pyenv/versions/3.10.10/lib/python3.10/site-packages/torch/nn/modules/loss.py:608: UserWarning: Using a target size (torch.Size([10])) that is different to the input size (torch.Size([10, 50, 1])). This will likely lead to incorrect results due to broadcasting. Please ensure they have the same size.\n",
      "  return F.mse_loss(input, target, reduction=self.reduction)\n",
      "/Users/ngjupeng/.pyenv/versions/3.10.10/lib/python3.10/site-packages/torch/nn/modules/loss.py:608: UserWarning: Using a target size (torch.Size([9])) that is different to the input size (torch.Size([9, 50, 1])). This will likely lead to incorrect results due to broadcasting. Please ensure they have the same size.\n",
      "  return F.mse_loss(input, target, reduction=self.reduction)\n",
      "/Users/ngjupeng/.pyenv/versions/3.10.10/lib/python3.10/site-packages/torch/nn/modules/loss.py:608: UserWarning: Using a target size (torch.Size([5])) that is different to the input size (torch.Size([5, 50, 1])). This will likely lead to incorrect results due to broadcasting. Please ensure they have the same size.\n",
      "  return F.mse_loss(input, target, reduction=self.reduction)\n"
     ]
    },
    {
     "name": "stdout",
     "output_type": "stream",
     "text": [
      "Round 7, Test Loss: 9142.4963\n",
      "Round 8, Test Loss: 9130.5224\n",
      "Round 9, Test Loss: 9115.3842\n",
      "Round 10, Test Loss: 9096.2676\n"
     ]
    }
   ],
   "source": [
    "print(\"\\nFederated Training (3 participants):\")\n",
    "num_participants = 3\n",
    "fed_models = [Predictor().to(device) for _ in range(num_participants)]\n",
    "\n",
    "# Split dataset among participants\n",
    "dataset_splits = np.array_split(range(len(train_dataset)), num_participants)\n",
    "fed_datasets = [\n",
    "    torch.utils.data.Subset(train_dataset, indices) for indices in dataset_splits\n",
    "]\n",
    "fed_loaders = [DataLoader(ds, batch_size=32, shuffle=True) for ds in fed_datasets]\n",
    "\n",
    "fed_losses_3 = federated_training(\n",
    "    fed_models, fed_loaders, test_loader, device=device\n",
    ")\n"
   ]
  },
  {
   "cell_type": "code",
   "execution_count": 307,
   "metadata": {},
   "outputs": [],
   "source": [
    "from phe import LightPHE, encrypt_array, decrypt_array, homomorphic_addition"
   ]
  },
  {
   "cell_type": "code",
   "execution_count": 308,
   "metadata": {},
   "outputs": [],
   "source": [
    "def train_model(model, train_loader, criterion, optimizer, device):\n",
    "    model.train()\n",
    "    total_loss = 0\n",
    "    for sequences, targets in train_loader:\n",
    "        sequences, targets = sequences.to(device), targets.to(device)\n",
    "        optimizer.zero_grad()\n",
    "        outputs = model(sequences)\n",
    "        loss = criterion(outputs, targets)\n",
    "        loss.backward()\n",
    "        optimizer.step()\n",
    "        total_loss += loss.item()\n",
    "    return total_loss / len(train_loader)\n"
   ]
  },
  {
   "cell_type": "code",
   "execution_count": 309,
   "metadata": {},
   "outputs": [],
   "source": [
    "def evaluate_model(model, test_loader, device):\n",
    "    model.eval()\n",
    "    criterion = nn.MSELoss()\n",
    "    total_loss = 0\n",
    "    with torch.no_grad():\n",
    "        for sequences, targets in test_loader:\n",
    "            sequences, targets = sequences.to(device), targets.to(device)\n",
    "            outputs = model(sequences)\n",
    "            loss = criterion(outputs, targets)\n",
    "            total_loss += loss.item()\n",
    "    return total_loss / len(test_loader)\n",
    "\n"
   ]
  },
  {
   "cell_type": "code",
   "execution_count": 310,
   "metadata": {},
   "outputs": [],
   "source": [
    "def secure_federated_training(\n",
    "    models, train_loaders, test_loader, local_epochs=10, num_rounds=10, device=\"cuda\"\n",
    "):\n",
    "    losses = []\n",
    "    BASIS_POINT = 1000\n",
    "    OFFSET = 10     # Offset to handle negative numbers\n",
    "    \n",
    "    # Generate keypair for homomorphic encryption\n",
    "    cs = LightPHE(algorithm_name=\"Paillier\")\n",
    "\n",
    "    for round in range(num_rounds):\n",
    "        print(f\"\\nFederated Round {round+1}/{num_rounds}\")\n",
    "        encrypted_tensors = []\n",
    "        \n",
    "        for i in range(len(models)):\n",
    "            optimizer = torch.optim.Adam(models[i].parameters())\n",
    "            criterion = nn.MSELoss()\n",
    "            \n",
    "            print(f\"\\nParticipant {i+1} local training:\")\n",
    "            for epoch in range(local_epochs):\n",
    "                train_loss = train_model(\n",
    "                    models[i], train_loaders[i], criterion, optimizer, device\n",
    "                )\n",
    "                if (epoch + 1) % 2 == 0:\n",
    "                    print(f\"Local Epoch {epoch+1}/{local_epochs}, Loss: {train_loss:.4f}\")\n",
    "            \n",
    "            # Collect and scale up parameters\n",
    "            all_weights = []\n",
    "            for param in models[i].parameters():\n",
    "                weights = param.data.cpu().numpy().flatten()\n",
    "                # Add offset and scale\n",
    "                weights = ((weights + OFFSET) * BASIS_POINT).astype(int)\n",
    "                all_weights.extend(weights.tolist())\n",
    "            \n",
    "            # Encrypt weights directly using LightPHE\n",
    "            encrypted_tensor = cs.encrypt(all_weights)\n",
    "            encrypted_tensors.append(encrypted_tensor)\n",
    "\n",
    "        # Secure aggregation using homomorphic addition\n",
    "        print(\"\\nPerforming secure aggregation...\")\n",
    "        aggregated_weights = encrypted_tensors[0]\n",
    "        for encrypted_tensor in encrypted_tensors[1:]:\n",
    "            aggregated_weights = aggregated_weights + encrypted_tensor\n",
    "        \n",
    "        # Apply scaling factor for averaging\n",
    "        num_participants = len(models)\n",
    "        scaling_factor = int((1.0 / num_participants) * BASIS_POINT)\n",
    "        averaged_weights = aggregated_weights * scaling_factor\n",
    "        \n",
    "        # Decrypt and process\n",
    "        decrypted_weights = cs.decrypt(averaged_weights)\n",
    "        \n",
    "        # Scale back down and remove offset\n",
    "        all_weights = np.array([\n",
    "            (float(x) / (BASIS_POINT * BASIS_POINT)) - OFFSET  # Double BASIS_POINT due to averaging\n",
    "            for x in decrypted_weights\n",
    "        ])\n",
    "        \n",
    "        print(f\"Sample weights after decryption: {all_weights[:5]}\")\n",
    "        \n",
    "        # Split weights back into parameter shapes\n",
    "        start_idx = 0\n",
    "        averaged_weights = []\n",
    "        for param in models[0].parameters():\n",
    "            param_size = np.prod(param.shape)\n",
    "            param_weights = all_weights[start_idx:start_idx + param_size]\n",
    "            averaged_weights.append(\n",
    "                torch.tensor(\n",
    "                    param_weights.reshape(param.shape),\n",
    "                    dtype=torch.float32\n",
    "                ).to(device)\n",
    "            )\n",
    "            start_idx += param_size\n",
    "\n",
    "        # Update all models with averaged weights\n",
    "        for model in models:\n",
    "            for param, avg_weight in zip(model.parameters(), averaged_weights):\n",
    "                param.data = avg_weight.clone()\n",
    "\n",
    "        # Evaluate global model\n",
    "        test_loss = evaluate_model(models[0], test_loader, device)\n",
    "        losses.append(test_loss)\n",
    "        print(f\"Round {round+1} completed, Global Test Loss: {test_loss:.4f}\")\n",
    "\n",
    "    return losses"
   ]
  },
  {
   "cell_type": "code",
   "execution_count": 311,
   "metadata": {},
   "outputs": [],
   "source": [
    "class Predictor(nn.Module):\n",
    "    def __init__(self, input_size=24):\n",
    "        super(Predictor, self).__init__()\n",
    "        self.layers = nn.Sequential(\n",
    "            nn.Linear(input_size, 24),\n",
    "            nn.ReLU(),\n",
    "            nn.Linear(24, 24),\n",
    "            nn.ReLU(),\n",
    "            nn.Linear(24, 24),\n",
    "            nn.ReLU(),\n",
    "            nn.Linear(24, 1),\n",
    "        )\n",
    "\n",
    "    def forward(self, x):\n",
    "        return self.layers(x)"
   ]
  },
  {
   "cell_type": "code",
   "execution_count": 312,
   "metadata": {},
   "outputs": [
    {
     "name": "stdout",
     "output_type": "stream",
     "text": [
      "\n",
      "Federated Training (3 participants):\n",
      "\n",
      "Federated Round 1/10\n",
      "\n",
      "Participant 1 local training:\n",
      "Local Epoch 2/10, Loss: 14055.5490\n",
      "Local Epoch 4/10, Loss: 14576.5691\n",
      "Local Epoch 6/10, Loss: 13719.8439\n",
      "Local Epoch 8/10, Loss: 13669.6174\n",
      "Local Epoch 10/10, Loss: 15093.5172\n"
     ]
    },
    {
     "name": "stderr",
     "output_type": "stream",
     "text": [
      "/Users/ngjupeng/.pyenv/versions/3.10.10/lib/python3.10/site-packages/torch/nn/modules/loss.py:608: UserWarning: Using a target size (torch.Size([32])) that is different to the input size (torch.Size([32, 50, 1])). This will likely lead to incorrect results due to broadcasting. Please ensure they have the same size.\n",
      "  return F.mse_loss(input, target, reduction=self.reduction)\n",
      "/Users/ngjupeng/.pyenv/versions/3.10.10/lib/python3.10/site-packages/torch/nn/modules/loss.py:608: UserWarning: Using a target size (torch.Size([10])) that is different to the input size (torch.Size([10, 50, 1])). This will likely lead to incorrect results due to broadcasting. Please ensure they have the same size.\n",
      "  return F.mse_loss(input, target, reduction=self.reduction)\n"
     ]
    },
    {
     "name": "stdout",
     "output_type": "stream",
     "text": [
      "\n",
      "Participant 2 local training:\n",
      "Local Epoch 2/10, Loss: 16581.3273\n",
      "Local Epoch 4/10, Loss: 19898.8633\n",
      "Local Epoch 6/10, Loss: 18208.7699\n",
      "Local Epoch 8/10, Loss: 16754.1508\n",
      "Local Epoch 10/10, Loss: 17080.5256\n"
     ]
    },
    {
     "name": "stderr",
     "output_type": "stream",
     "text": [
      "/Users/ngjupeng/.pyenv/versions/3.10.10/lib/python3.10/site-packages/torch/nn/modules/loss.py:608: UserWarning: Using a target size (torch.Size([9])) that is different to the input size (torch.Size([9, 50, 1])). This will likely lead to incorrect results due to broadcasting. Please ensure they have the same size.\n",
      "  return F.mse_loss(input, target, reduction=self.reduction)\n"
     ]
    },
    {
     "name": "stdout",
     "output_type": "stream",
     "text": [
      "\n",
      "Participant 3 local training:\n",
      "Local Epoch 2/10, Loss: 18673.4461\n",
      "Local Epoch 4/10, Loss: 18591.5512\n",
      "Local Epoch 6/10, Loss: 16066.0653\n",
      "Local Epoch 8/10, Loss: 17652.9764\n",
      "Local Epoch 10/10, Loss: 16895.6822\n",
      "\n",
      "Performing secure aggregation...\n",
      "Sample weights after decryption: [-0.050293 -0.020656  0.074915 -0.033643  0.034622]\n",
      "Round 1 completed, Global Test Loss: 9137.7035\n",
      "\n",
      "Federated Round 2/10\n",
      "\n",
      "Participant 1 local training:\n",
      "Local Epoch 2/10, Loss: 14455.1486\n",
      "Local Epoch 4/10, Loss: 13222.0943\n",
      "Local Epoch 6/10, Loss: 14285.1086\n",
      "Local Epoch 8/10, Loss: 15157.1277\n",
      "Local Epoch 10/10, Loss: 13539.5836\n"
     ]
    },
    {
     "name": "stderr",
     "output_type": "stream",
     "text": [
      "/Users/ngjupeng/.pyenv/versions/3.10.10/lib/python3.10/site-packages/torch/nn/modules/loss.py:608: UserWarning: Using a target size (torch.Size([5])) that is different to the input size (torch.Size([5, 50, 1])). This will likely lead to incorrect results due to broadcasting. Please ensure they have the same size.\n",
      "  return F.mse_loss(input, target, reduction=self.reduction)\n"
     ]
    },
    {
     "name": "stdout",
     "output_type": "stream",
     "text": [
      "\n",
      "Participant 2 local training:\n",
      "Local Epoch 2/10, Loss: 16494.1916\n",
      "Local Epoch 4/10, Loss: 17013.9824\n",
      "Local Epoch 6/10, Loss: 16497.1969\n",
      "Local Epoch 8/10, Loss: 16917.5738\n",
      "Local Epoch 10/10, Loss: 15497.9094\n",
      "\n",
      "Participant 3 local training:\n",
      "Local Epoch 2/10, Loss: 17560.2547\n",
      "Local Epoch 4/10, Loss: 17783.7779\n",
      "Local Epoch 6/10, Loss: 18545.2697\n",
      "Local Epoch 8/10, Loss: 17525.0803\n",
      "Local Epoch 10/10, Loss: 16465.6711\n",
      "\n",
      "Performing secure aggregation...\n",
      "Sample weights after decryption: [-0.112231 -0.062614  0.063926 -0.041968  0.082907]\n",
      "Round 2 completed, Global Test Loss: 8857.2386\n",
      "\n",
      "Federated Round 3/10\n",
      "\n",
      "Participant 1 local training:\n",
      "Local Epoch 2/10, Loss: 14621.0975\n",
      "Local Epoch 4/10, Loss: 15202.9568\n",
      "Local Epoch 6/10, Loss: 13155.3453\n",
      "Local Epoch 8/10, Loss: 13267.5011\n",
      "Local Epoch 10/10, Loss: 12268.0119\n",
      "\n",
      "Participant 2 local training:\n",
      "Local Epoch 2/10, Loss: 17024.4320\n",
      "Local Epoch 4/10, Loss: 17066.1703\n",
      "Local Epoch 6/10, Loss: 15401.1566\n",
      "Local Epoch 8/10, Loss: 15275.6217\n",
      "Local Epoch 10/10, Loss: 13367.3340\n",
      "\n",
      "Participant 3 local training:\n",
      "Local Epoch 2/10, Loss: 18676.9393\n",
      "Local Epoch 4/10, Loss: 17430.2369\n",
      "Local Epoch 6/10, Loss: 16769.1158\n",
      "Local Epoch 8/10, Loss: 15034.6434\n",
      "Local Epoch 10/10, Loss: 17234.9447\n",
      "\n",
      "Performing secure aggregation...\n",
      "Sample weights after decryption: [-0.16651  -0.10324   0.052937 -0.042634  0.12653 ]\n",
      "Round 3 completed, Global Test Loss: 7605.8395\n",
      "\n",
      "Federated Round 4/10\n",
      "\n",
      "Participant 1 local training:\n",
      "Local Epoch 2/10, Loss: 12858.9850\n",
      "Local Epoch 4/10, Loss: 11453.5306\n",
      "Local Epoch 6/10, Loss: 9741.3971\n",
      "Local Epoch 8/10, Loss: 8540.0061\n",
      "Local Epoch 10/10, Loss: 8362.5607\n",
      "\n",
      "Participant 2 local training:\n",
      "Local Epoch 2/10, Loss: 13204.8756\n",
      "Local Epoch 4/10, Loss: 13555.8133\n",
      "Local Epoch 6/10, Loss: 12533.8709\n",
      "Local Epoch 8/10, Loss: 12609.9813\n",
      "Local Epoch 10/10, Loss: 9530.3317\n",
      "\n",
      "Participant 3 local training:\n",
      "Local Epoch 2/10, Loss: 15889.5643\n",
      "Local Epoch 4/10, Loss: 14404.5564\n",
      "Local Epoch 6/10, Loss: 13024.9930\n",
      "Local Epoch 8/10, Loss: 13627.4841\n",
      "Local Epoch 10/10, Loss: 10024.3001\n",
      "\n",
      "Performing secure aggregation...\n",
      "Sample weights after decryption: [-0.219457 -0.137539  0.041948 -0.033976  0.166823]\n",
      "Round 4 completed, Global Test Loss: 5314.9863\n",
      "\n",
      "Federated Round 5/10\n",
      "\n",
      "Participant 1 local training:\n",
      "Local Epoch 2/10, Loss: 7990.7254\n",
      "Local Epoch 4/10, Loss: 6736.5131\n",
      "Local Epoch 6/10, Loss: 7324.3144\n",
      "Local Epoch 8/10, Loss: 7207.1866\n",
      "Local Epoch 10/10, Loss: 6377.3955\n",
      "\n",
      "Participant 2 local training:\n",
      "Local Epoch 2/10, Loss: 9961.2107\n",
      "Local Epoch 4/10, Loss: 8739.7729\n",
      "Local Epoch 6/10, Loss: 8077.6154\n",
      "Local Epoch 8/10, Loss: 9216.1210\n",
      "Local Epoch 10/10, Loss: 8325.3466\n",
      "\n",
      "Participant 3 local training:\n",
      "Local Epoch 2/10, Loss: 10592.8316\n",
      "Local Epoch 4/10, Loss: 9157.4899\n",
      "Local Epoch 6/10, Loss: 8513.2474\n",
      "Local Epoch 8/10, Loss: 8264.7711\n",
      "Local Epoch 10/10, Loss: 8086.0493\n",
      "\n",
      "Performing secure aggregation...\n",
      "Sample weights after decryption: [-0.260749 -0.142534  0.030959 -0.020989  0.19646 ]\n",
      "Round 5 completed, Global Test Loss: 4373.9384\n",
      "\n",
      "Federated Round 6/10\n",
      "\n",
      "Participant 1 local training:\n",
      "Local Epoch 2/10, Loss: 6509.3900\n",
      "Local Epoch 4/10, Loss: 6803.6332\n",
      "Local Epoch 6/10, Loss: 6194.2421\n",
      "Local Epoch 8/10, Loss: 6479.2726\n",
      "Local Epoch 10/10, Loss: 6093.0809\n",
      "\n",
      "Participant 2 local training:\n",
      "Local Epoch 2/10, Loss: 8137.1092\n",
      "Local Epoch 4/10, Loss: 7598.1784\n",
      "Local Epoch 6/10, Loss: 8043.8985\n",
      "Local Epoch 8/10, Loss: 7669.9726\n",
      "Local Epoch 10/10, Loss: 8042.9671\n",
      "\n",
      "Participant 3 local training:\n",
      "Local Epoch 2/10, Loss: 8957.4526\n",
      "Local Epoch 4/10, Loss: 8510.6674\n",
      "Local Epoch 6/10, Loss: 7794.6023\n",
      "Local Epoch 8/10, Loss: 7218.5864\n",
      "Local Epoch 10/10, Loss: 7691.3159\n",
      "\n",
      "Performing secure aggregation...\n",
      "Sample weights after decryption: [-0.295048 -0.117892  0.01997  -0.009667  0.187136]\n",
      "Round 6 completed, Global Test Loss: 4250.9261\n",
      "\n",
      "Federated Round 7/10\n",
      "\n",
      "Participant 1 local training:\n",
      "Local Epoch 2/10, Loss: 6574.3710\n",
      "Local Epoch 4/10, Loss: 6381.1263\n",
      "Local Epoch 6/10, Loss: 6209.4729\n",
      "Local Epoch 8/10, Loss: 5765.9239\n",
      "Local Epoch 10/10, Loss: 5919.7687\n",
      "\n",
      "Participant 2 local training:\n",
      "Local Epoch 2/10, Loss: 7844.9780\n",
      "Local Epoch 4/10, Loss: 8889.5798\n",
      "Local Epoch 6/10, Loss: 7686.2182\n",
      "Local Epoch 8/10, Loss: 7568.1558\n",
      "Local Epoch 10/10, Loss: 7804.4382\n",
      "\n",
      "Participant 3 local training:\n",
      "Local Epoch 2/10, Loss: 8354.4031\n",
      "Local Epoch 4/10, Loss: 7685.4602\n",
      "Local Epoch 6/10, Loss: 7508.0186\n",
      "Local Epoch 8/10, Loss: 7247.6533\n",
      "Local Epoch 10/10, Loss: 7711.7779\n",
      "\n",
      "Performing secure aggregation...\n",
      "Sample weights after decryption: [-0.325351 -0.086923  0.008981  0.001322  0.158498]\n",
      "Round 7 completed, Global Test Loss: 4139.4297\n",
      "\n",
      "Federated Round 8/10\n",
      "\n",
      "Participant 1 local training:\n",
      "Local Epoch 2/10, Loss: 5818.5729\n",
      "Local Epoch 4/10, Loss: 5808.4689\n",
      "Local Epoch 6/10, Loss: 6360.6749\n",
      "Local Epoch 8/10, Loss: 5773.2190\n",
      "Local Epoch 10/10, Loss: 5707.7607\n",
      "\n",
      "Participant 2 local training:\n",
      "Local Epoch 2/10, Loss: 7074.4145\n",
      "Local Epoch 4/10, Loss: 7773.9403\n",
      "Local Epoch 6/10, Loss: 7242.7197\n",
      "Local Epoch 8/10, Loss: 7089.4610\n",
      "Local Epoch 10/10, Loss: 7035.4702\n",
      "\n",
      "Participant 3 local training:\n",
      "Local Epoch 2/10, Loss: 7452.8938\n",
      "Local Epoch 4/10, Loss: 8182.6716\n",
      "Local Epoch 6/10, Loss: 6914.2425\n",
      "Local Epoch 8/10, Loss: 6842.6199\n",
      "Local Epoch 10/10, Loss: 6778.7842\n",
      "\n",
      "Performing secure aggregation...\n",
      "Sample weights after decryption: [-0.344665 -0.04996  -0.002008  0.012311  0.131192]\n",
      "Round 8 completed, Global Test Loss: 4041.9924\n",
      "\n",
      "Federated Round 9/10\n",
      "\n",
      "Participant 1 local training:\n",
      "Local Epoch 2/10, Loss: 5784.6729\n",
      "Local Epoch 4/10, Loss: 5374.1842\n",
      "Local Epoch 6/10, Loss: 5539.5066\n",
      "Local Epoch 8/10, Loss: 5254.8299\n",
      "Local Epoch 10/10, Loss: 5666.7017\n",
      "\n",
      "Participant 2 local training:\n",
      "Local Epoch 2/10, Loss: 7054.5963\n",
      "Local Epoch 4/10, Loss: 6729.1050\n",
      "Local Epoch 6/10, Loss: 6944.1992\n",
      "Local Epoch 8/10, Loss: 7459.5790\n",
      "Local Epoch 10/10, Loss: 7453.6581\n",
      "\n",
      "Participant 3 local training:\n",
      "Local Epoch 2/10, Loss: 6969.8399\n",
      "Local Epoch 4/10, Loss: 6932.1959\n",
      "Local Epoch 6/10, Loss: 6783.7345\n",
      "Local Epoch 8/10, Loss: 6734.2812\n",
      "Local Epoch 10/10, Loss: 7502.6483\n",
      "\n",
      "Performing secure aggregation...\n",
      "Sample weights after decryption: [-0.353656 -0.010666 -0.012997  0.022301  0.105551]\n",
      "Round 9 completed, Global Test Loss: 3970.2990\n",
      "\n",
      "Federated Round 10/10\n",
      "\n",
      "Participant 1 local training:\n",
      "Local Epoch 2/10, Loss: 5368.9146\n",
      "Local Epoch 4/10, Loss: 5500.0950\n",
      "Local Epoch 6/10, Loss: 5521.0297\n",
      "Local Epoch 8/10, Loss: 5730.5113\n",
      "Local Epoch 10/10, Loss: 5004.9391\n",
      "\n",
      "Participant 2 local training:\n",
      "Local Epoch 2/10, Loss: 6774.7370\n",
      "Local Epoch 4/10, Loss: 7095.9609\n",
      "Local Epoch 6/10, Loss: 6568.9111\n",
      "Local Epoch 8/10, Loss: 6350.6237\n",
      "Local Epoch 10/10, Loss: 6371.5752\n",
      "\n",
      "Participant 3 local training:\n",
      "Local Epoch 2/10, Loss: 6649.3263\n",
      "Local Epoch 4/10, Loss: 7237.9097\n",
      "Local Epoch 6/10, Loss: 6620.7932\n",
      "Local Epoch 8/10, Loss: 6222.5466\n",
      "Local Epoch 10/10, Loss: 6800.0054\n",
      "\n",
      "Performing secure aggregation...\n",
      "Sample weights after decryption: [-0.348328  0.028961 -0.022987  0.031292  0.078578]\n",
      "Round 10 completed, Global Test Loss: 3889.1223\n"
     ]
    }
   ],
   "source": [
    "# Use the secure federated training instead of the original one\n",
    "print(\"\\nFederated Training (3 participants):\")\n",
    "num_participants = 3\n",
    "fed_models = [Predictor().to(device) for _ in range(num_participants)]\n",
    "\n",
    "train_data = np.loadtxt(\"./CMAPSSData/train_FD001.txt\")\n",
    "test_data = np.loadtxt(\"./CMAPSSData/test_FD001.txt\")\n",
    "\n",
    "# Create datasets\n",
    "train_dataset = TurbofanDataset(train_data)\n",
    "test_dataset = TurbofanDataset(test_data)\n",
    "\n",
    "test_loader = DataLoader(test_dataset, batch_size=32)\n",
    "\n",
    "# Split dataset among participants\n",
    "dataset_splits = np.array_split(range(len(train_dataset)), num_participants)\n",
    "fed_datasets = [\n",
    "    torch.utils.data.Subset(train_dataset, indices) for indices in dataset_splits\n",
    "]\n",
    "fed_loaders = [DataLoader(ds, batch_size=32, shuffle=True) for ds in fed_datasets]\n",
    "\n",
    "\n",
    "fed_losses_3 = secure_federated_training(\n",
    "    fed_models, \n",
    "    fed_loaders, \n",
    "    test_loader, \n",
    "    local_epochs=10,  # Each participant trains for 10 epochs\n",
    "    num_rounds=10,    # 10 rounds of federation\n",
    "    device=device\n",
    ")"
   ]
  },
  {
   "cell_type": "code",
   "execution_count": null,
   "metadata": {},
   "outputs": [],
   "source": [
    "from phe import LightPHE, encrypt_array, decrypt_array, homomorphic_addition"
   ]
  },
  {
   "cell_type": "code",
   "execution_count": 323,
   "metadata": {},
   "outputs": [
    {
     "data": {
      "text/plain": [
       "Text(0.5, 1.0, 'Model Performance Comparison')"
      ]
     },
     "execution_count": 323,
     "metadata": {},
     "output_type": "execute_result"
    },
    {
     "data": {
      "image/png": "[encoded data removed]",
      "text/plain": [
       "<Figure size 1000x600 with 1 Axes>"
      ]
     },
     "metadata": {},
     "output_type": "display_data"
    }
   ],
   "source": [
    "# Plot results\n",
    "plt.figure(figsize=(10, 6))\n",
    "plt.plot(fed_losses_3, label=\"Single Node\")\n",
    "plt.xlabel(\"Epoch/Round\")\n",
    "plt.ylabel(\"Test Loss (MSE)\")\n",
    "plt.title(\"Model Performance Comparison\")"
   ]
  },
  {
   "cell_type": "code",
   "execution_count": 324,
   "metadata": {},
   "outputs": [
    {
     "data": {
      "text/plain": [
       "[9137.703504774305,\n",
       " 8857.238552517361,\n",
       " 7605.839463975694,\n",
       " 5314.986300998264,\n",
       " 4373.938395182292,\n",
       " 4250.926052517361,\n",
       " 4139.429660373264,\n",
       " 4041.992431640625,\n",
       " 3970.2989637586807,\n",
       " 3889.122314453125]"
      ]
     },
     "execution_count": 324,
     "metadata": {},
     "output_type": "execute_result"
    }
   ],
   "source": [
    "fed_losses_3"
   ]
  },
  {
   "cell_type": "code",
   "execution_count": null,
   "metadata": {},
   "outputs": [],
   "source": []
  }
 ],
 "metadata": {
  "kernelspec": {
   "display_name": ".venv",
   "language": "python",
   "name": "python3"
  },
  "language_info": {
   "codemirror_mode": {
    "name": "ipython",
    "version": 3
   },
   "file_extension": ".py",
   "mimetype": "text/x-python",
   "name": "python",
   "nbconvert_exporter": "python",
   "pygments_lexer": "ipython3",
   "version": "3.10.10"
  }
 },
 "nbformat": 4,
 "nbformat_minor": 2
}
