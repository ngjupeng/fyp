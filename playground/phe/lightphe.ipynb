{
 "cells": [
  {
   "cell_type": "code",
   "execution_count": 5,
   "metadata": {},
   "outputs": [
    {
     "name": "stdout",
     "output_type": "stream",
     "text": [
      "Collecting lightpheNote: you may need to restart the kernel to use updated packages.\n",
      "\n",
      "  Using cached lightphe-0.0.8-py3-none-any.whl (53 kB)\n",
      "Collecting sympy==1.12\n",
      "  Using cached sympy-1.12-py3-none-any.whl (5.7 MB)\n",
      "Collecting pytest==7.1.2\n",
      "  Using cached pytest-7.1.2-py3-none-any.whl (297 kB)\n",
      "Collecting attrs>=19.2.0\n",
      "  Downloading attrs-24.2.0-py3-none-any.whl (63 kB)\n",
      "     ---------------------------------------- 63.0/63.0 kB 3.3 MB/s eta 0:00:00\n",
      "Collecting iniconfig\n",
      "  Using cached iniconfig-2.0.0-py3-none-any.whl (5.9 kB)\n",
      "Requirement already satisfied: packaging in c:\\users\\illegear\\appdata\\roaming\\python\\python311\\site-packages (from pytest==7.1.2->lightphe) (24.1)\n",
      "Collecting pluggy<2.0,>=0.12\n",
      "  Using cached pluggy-1.5.0-py3-none-any.whl (20 kB)\n",
      "Collecting py>=1.8.2\n",
      "  Using cached py-1.11.0-py2.py3-none-any.whl (98 kB)\n",
      "Collecting tomli>=1.0.0\n",
      "  Using cached tomli-2.0.1-py3-none-any.whl (12 kB)\n",
      "Collecting atomicwrites>=1.0\n",
      "  Using cached atomicwrites-1.4.1.tar.gz (14 kB)\n",
      "  Preparing metadata (setup.py): started\n",
      "  Preparing metadata (setup.py): finished with status 'done'\n",
      "Requirement already satisfied: colorama in c:\\users\\illegear\\appdata\\local\\programs\\python\\python311\\lib\\site-packages (from pytest==7.1.2->lightphe) (0.4.6)\n",
      "Collecting mpmath>=0.19\n",
      "  Using cached mpmath-1.3.0-py3-none-any.whl (536 kB)\n",
      "Installing collected packages: mpmath, tomli, sympy, py, pluggy, iniconfig, attrs, atomicwrites, pytest, lightphe\n",
      "  Running setup.py install for atomicwrites: started\n",
      "  Running setup.py install for atomicwrites: finished with status 'done'\n",
      "Successfully installed atomicwrites-1.4.1 attrs-24.2.0 iniconfig-2.0.0 lightphe-0.0.8 mpmath-1.3.0 pluggy-1.5.0 py-1.11.0 pytest-7.1.2 sympy-1.12 tomli-2.0.1\n"
     ]
    },
    {
     "name": "stderr",
     "output_type": "stream",
     "text": [
      "  DEPRECATION: atomicwrites is being installed using the legacy 'setup.py install' method, because it does not have a 'pyproject.toml' and the 'wheel' package is not installed. pip 23.1 will enforce this behaviour change. A possible replacement is to enable the '--use-pep517' option. Discussion can be found at https://github.com/pypa/pip/issues/8559\n",
      "\n",
      "[notice] A new release of pip available: 22.3 -> 24.2\n",
      "[notice] To update, run: python.exe -m pip install --upgrade pip\n"
     ]
    }
   ],
   "source": [
    "%pip install lightphe"
   ]
  },
  {
   "cell_type": "code",
   "execution_count": 6,
   "metadata": {},
   "outputs": [],
   "source": [
    "from lightphe import LightPHE"
   ]
  },
  {
   "cell_type": "code",
   "execution_count": 7,
   "metadata": {},
   "outputs": [],
   "source": [
    "cs = LightPHE(algorithm_name=\"RSA\", keys=)"
   ]
  },
  {
   "cell_type": "code",
   "execution_count": 8,
   "metadata": {},
   "outputs": [],
   "source": [
    "m1 = 17\n",
    "m2 = 23"
   ]
  },
  {
   "cell_type": "code",
   "execution_count": 9,
   "metadata": {},
   "outputs": [
    {
     "data": {
      "text/plain": [
       "Ciphertext(878969503465029694524780985188197197421316499113112866115438742441167046047073001788034778284820440486168010090989042820567370220660961826386365937175096034141405927604108092775410331917441181208554538254419421687816468295901158950447915511893017272566439467255765483963421942102076821606468258221091642663)"
      ]
     },
     "execution_count": 9,
     "metadata": {},
     "output_type": "execute_result"
    }
   ],
   "source": [
    "c1 = cs.encrypt(plaintext=m1)\n",
    "c1"
   ]
  },
  {
   "cell_type": "code",
   "execution_count": 10,
   "metadata": {},
   "outputs": [
    {
     "data": {
      "text/plain": [
       "Ciphertext(58891294492039142020957220244830501893161215061957804573282602086471090180606587267338094441820075343411091651398275976815611683245138698632532735892756237258338293477371596378218620200942322407144388113872908779675500593703705759412329715566928048861480634769771768546498446177916341651480646794320362152)"
      ]
     },
     "execution_count": 10,
     "metadata": {},
     "output_type": "execute_result"
    }
   ],
   "source": [
    "c2 = cs.encrypt(plaintext=m2)\n",
    "c2"
   ]
  },
  {
   "cell_type": "code",
   "execution_count": 12,
   "metadata": {},
   "outputs": [],
   "source": [
    "assert cs.decrypt(c1) == m1\n",
    "assert cs.decrypt(c2) == m2\n"
   ]
  },
  {
   "cell_type": "code",
   "execution_count": 14,
   "metadata": {},
   "outputs": [],
   "source": [
    "assert cs.decrypt(c1 * c2) == m1 * m2"
   ]
  },
  {
   "cell_type": "code",
   "execution_count": 78,
   "metadata": {},
   "outputs": [],
   "source": [
    "cs_additively = LightPHE(algorithm_name=\"Paillier\")"
   ]
  },
  {
   "cell_type": "code",
   "execution_count": 79,
   "metadata": {},
   "outputs": [],
   "source": [
    "m1 = 17\n",
    "m2 = 23"
   ]
  },
  {
   "cell_type": "code",
   "execution_count": 80,
   "metadata": {},
   "outputs": [
    {
     "data": {
      "text/plain": [
       "Ciphertext(25564345704926000745887498885731164663081809735998249703127192715242015208449020096670523951499950649410525770210066890474251966544383504628059121358325200288444361058258034857825236042499872604250130218103522172837725642204132854566220189773634287675488328121414424313728709337536715095743859398226083278611756452020233098979786158955487601193567528034315434889518699237569738418296193894507860126088753856877931511069990382983033337539297183970731322540346033660958312656421631336591066916901398146353665955283611185683860597792026033030733061945875185436594915730276105008420146322285880888176577972379934569333)"
      ]
     },
     "execution_count": 80,
     "metadata": {},
     "output_type": "execute_result"
    }
   ],
   "source": [
    "c1 = cs_additively.encrypt(plaintext=m1)\n",
    "c1"
   ]
  },
  {
   "cell_type": "code",
   "execution_count": 81,
   "metadata": {},
   "outputs": [
    {
     "data": {
      "text/plain": [
       "Ciphertext(65029512504154443631458151026624784055068696876413031708143854953040296430938990105747140313922541596387601548288340572350803041192817709737852177602976175463718286325516083374251150971800211512438867839978163146205699087190885075335727719926287828710434222151486452426604863639635580663344753156870298349210313674596187886740482498842528412351819005701334613377857416506768009097512849391436353608407715165533076876806255942776519843390529654879686568064549506064694549164022329792005310010818138050955384251855932405684195396457702171099860434261885738264701887089933160201616461990620812018732350805921313251074)"
      ]
     },
     "execution_count": 81,
     "metadata": {},
     "output_type": "execute_result"
    }
   ],
   "source": [
    "c2 = cs_additively.encrypt(plaintext=m2)\n",
    "c2"
   ]
  },
  {
   "cell_type": "code",
   "execution_count": 82,
   "metadata": {},
   "outputs": [
    {
     "data": {
      "text/plain": [
       "40"
      ]
     },
     "execution_count": 82,
     "metadata": {},
     "output_type": "execute_result"
    }
   ],
   "source": [
    "c3 = c1 + c2\n",
    "cs_additively.decrypt(c3)"
   ]
  },
  {
   "cell_type": "code",
   "execution_count": 73,
   "metadata": {},
   "outputs": [
    {
     "data": {
      "text/plain": [
       "85"
      ]
     },
     "execution_count": 73,
     "metadata": {},
     "output_type": "execute_result"
    }
   ],
   "source": [
    "cs_additively.decrypt(c1 * 5)"
   ]
  },
  {
   "cell_type": "code",
   "execution_count": 66,
   "metadata": {},
   "outputs": [
    {
     "data": {
      "text/plain": [
       "85"
      ]
     },
     "execution_count": 66,
     "metadata": {},
     "output_type": "execute_result"
    }
   ],
   "source": [
    "m1 * (5)"
   ]
  },
  {
   "cell_type": "code",
   "execution_count": 77,
   "metadata": {},
   "outputs": [
    {
     "name": "stdout",
     "output_type": "stream",
     "text": [
      "Encrypted average: 2.0\n",
      "Plain average: 2.0\n"
     ]
    }
   ],
   "source": [
    "from lightphe import LightPHE\n",
    "\n",
    "# Initialize the cryptosystem\n",
    "cs_additively = LightPHE(algorithm_name=\"Paillier\")\n",
    "\n",
    "# Define our scaling factor (e.g., 1000 for 3 decimal places)\n",
    "SCALE = 1000\n",
    "\n",
    "# Our values\n",
    "values = [1, 2, 3]\n",
    "\n",
    "# Encrypt scaled values\n",
    "encrypted_values = [cs_additively.encrypt(v * SCALE) for v in values]\n",
    "\n",
    "# Sum the encrypted values\n",
    "encrypted_sum = sum(encrypted_values[1:], start=encrypted_values[0])\n",
    "\n",
    "# Calculate the modular multiplicative inverse of 3\n",
    "n = cs_additively.cs.keys['public_key']['n']\n",
    "inverse_3 = pow(3, -1, n)\n",
    "\n",
    "# Multiply the sum by the inverse (equivalent to division by 3)\n",
    "encrypted_average = encrypted_sum * inverse_3\n",
    "\n",
    "# Decrypt the result\n",
    "decrypted_scaled_average = cs_additively.decrypt(encrypted_average)\n",
    "\n",
    "# Scale down and round to get the final result\n",
    "final_average = round(decrypted_scaled_average / SCALE, 3)\n",
    "\n",
    "print(f\"Encrypted average: {final_average}\")\n",
    "\n",
    "# Verify with plain calculation\n",
    "plain_average = sum(values) / len(values)\n",
    "print(f\"Plain average: {plain_average}\")\n",
    "\n",
    "assert abs(final_average - plain_average) < 0.001, \"Results don't match within tolerance\""
   ]
  }
 ],
 "metadata": {
  "kernelspec": {
   "display_name": "Python 3",
   "language": "python",
   "name": "python3"
  },
  "language_info": {
   "codemirror_mode": {
    "name": "ipython",
    "version": 3
   },
   "file_extension": ".py",
   "mimetype": "text/x-python",
   "name": "python",
   "nbconvert_exporter": "python",
   "pygments_lexer": "ipython3",
   "version": "3.11.0"
  }
 },
 "nbformat": 4,
 "nbformat_minor": 2
}
