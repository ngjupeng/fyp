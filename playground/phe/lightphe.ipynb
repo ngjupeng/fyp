{
 "cells": [
  {
   "cell_type": "code",
   "execution_count": 5,
   "metadata": {},
   "outputs": [
    {
     "name": "stdout",
     "output_type": "stream",
     "text": [
      "Collecting lightpheNote: you may need to restart the kernel to use updated packages.\n",
      "\n",
      "  Using cached lightphe-0.0.8-py3-none-any.whl (53 kB)\n",
      "Collecting sympy==1.12\n",
      "  Using cached sympy-1.12-py3-none-any.whl (5.7 MB)\n",
      "Collecting pytest==7.1.2\n",
      "  Using cached pytest-7.1.2-py3-none-any.whl (297 kB)\n",
      "Collecting attrs>=19.2.0\n",
      "  Downloading attrs-24.2.0-py3-none-any.whl (63 kB)\n",
      "     ---------------------------------------- 63.0/63.0 kB 3.3 MB/s eta 0:00:00\n",
      "Collecting iniconfig\n",
      "  Using cached iniconfig-2.0.0-py3-none-any.whl (5.9 kB)\n",
      "Requirement already satisfied: packaging in c:\\users\\illegear\\appdata\\roaming\\python\\python311\\site-packages (from pytest==7.1.2->lightphe) (24.1)\n",
      "Collecting pluggy<2.0,>=0.12\n",
      "  Using cached pluggy-1.5.0-py3-none-any.whl (20 kB)\n",
      "Collecting py>=1.8.2\n",
      "  Using cached py-1.11.0-py2.py3-none-any.whl (98 kB)\n",
      "Collecting tomli>=1.0.0\n",
      "  Using cached tomli-2.0.1-py3-none-any.whl (12 kB)\n",
      "Collecting atomicwrites>=1.0\n",
      "  Using cached atomicwrites-1.4.1.tar.gz (14 kB)\n",
      "  Preparing metadata (setup.py): started\n",
      "  Preparing metadata (setup.py): finished with status 'done'\n",
      "Requirement already satisfied: colorama in c:\\users\\illegear\\appdata\\local\\programs\\python\\python311\\lib\\site-packages (from pytest==7.1.2->lightphe) (0.4.6)\n",
      "Collecting mpmath>=0.19\n",
      "  Using cached mpmath-1.3.0-py3-none-any.whl (536 kB)\n",
      "Installing collected packages: mpmath, tomli, sympy, py, pluggy, iniconfig, attrs, atomicwrites, pytest, lightphe\n",
      "  Running setup.py install for atomicwrites: started\n",
      "  Running setup.py install for atomicwrites: finished with status 'done'\n",
      "Successfully installed atomicwrites-1.4.1 attrs-24.2.0 iniconfig-2.0.0 lightphe-0.0.8 mpmath-1.3.0 pluggy-1.5.0 py-1.11.0 pytest-7.1.2 sympy-1.12 tomli-2.0.1\n"
     ]
    },
    {
     "name": "stderr",
     "output_type": "stream",
     "text": [
      "  DEPRECATION: atomicwrites is being installed using the legacy 'setup.py install' method, because it does not have a 'pyproject.toml' and the 'wheel' package is not installed. pip 23.1 will enforce this behaviour change. A possible replacement is to enable the '--use-pep517' option. Discussion can be found at https://github.com/pypa/pip/issues/8559\n",
      "\n",
      "[notice] A new release of pip available: 22.3 -> 24.2\n",
      "[notice] To update, run: python.exe -m pip install --upgrade pip\n"
     ]
    }
   ],
   "source": [
    "%pip install lightphe"
   ]
  },
  {
   "cell_type": "code",
   "execution_count": 1,
   "metadata": {},
   "outputs": [],
   "source": [
    "from lightphe import LightPHE"
   ]
  },
  {
   "cell_type": "code",
   "execution_count": 2,
   "metadata": {},
   "outputs": [],
   "source": [
    "cs = LightPHE(algorithm_name=\"Paillier\")"
   ]
  },
  {
   "cell_type": "code",
   "execution_count": 3,
   "metadata": {},
   "outputs": [
    {
     "data": {
      "text/plain": [
       "{'private_key': {'phi': 31247118449770222454511307678533419439381929892264064444762429970552974264384166605641571268891192338295419793405546358900960747352901046082853279838891945616554368824426360215989534891995871032287741154077664137898026145971390985205780343794560749762575547793972346749105226919516329123788563412790611109280},\n",
       " 'public_key': {'g': 31247118449770222454511307678533419439381929892264064444762429970552974264384166605641571268891192338295419793405546358900960747352901046082853279838891958038395308920445584951106897754690563220948805653318449302945939478489199340638925084454940324027546453501015573549836654657754801463772366524873178167920,\n",
       "  'n': 31247118449770222454511307678533419439381929892264064444762429970552974264384166605641571268891192338295419793405546358900960747352901046082853279838891958038395308920445584951106897754690563220948805653318449302945939478489199340638925084454940324027546453501015573549836654657754801463772366524873178167919}}"
      ]
     },
     "execution_count": 3,
     "metadata": {},
     "output_type": "execute_result"
    }
   ],
   "source": [
    "cs.cs.keys"
   ]
  },
  {
   "cell_type": "code",
   "execution_count": 12,
   "metadata": {},
   "outputs": [],
   "source": [
    "m1 = 17.1\n",
    "m2 = 23.2"
   ]
  },
  {
   "cell_type": "code",
   "execution_count": 20,
   "metadata": {},
   "outputs": [],
   "source": [
    "BASIS_POINT = 10000\n",
    "m1 = 17.1\n",
    "m1 *= BASIS_POINT\n",
    "\n",
    "m2 = 18.3\n",
    "m2 *= BASIS_POINT\n"
   ]
  },
  {
   "cell_type": "code",
   "execution_count": 21,
   "metadata": {},
   "outputs": [],
   "source": [
    "c1 = cs.encrypt(plaintext=m1)\n",
    "c2 = cs.encrypt(plaintext=m2)\n",
    "\n",
    "c3 = c1 + c2"
   ]
  },
  {
   "cell_type": "code",
   "execution_count": 22,
   "metadata": {},
   "outputs": [
    {
     "data": {
      "text/plain": [
       "35.4"
      ]
     },
     "execution_count": 22,
     "metadata": {},
     "output_type": "execute_result"
    }
   ],
   "source": [
    "(m1 + m2)/BASIS_POINT"
   ]
  },
  {
   "cell_type": "code",
   "execution_count": 24,
   "metadata": {},
   "outputs": [
    {
     "data": {
      "text/plain": [
       "35.4"
      ]
     },
     "execution_count": 24,
     "metadata": {},
     "output_type": "execute_result"
    }
   ],
   "source": [
    "cs.decrypt(c3) / BASIS_POINT"
   ]
  },
  {
   "cell_type": "code",
   "execution_count": 25,
   "metadata": {},
   "outputs": [],
   "source": [
    "assert ((m1 + m2)/BASIS_POINT) == (cs.decrypt(c3) / BASIS_POINT)"
   ]
  },
  {
   "cell_type": "code",
   "execution_count": 15,
   "metadata": {},
   "outputs": [
    {
     "data": {
      "text/plain": [
       "Ciphertext(366871537066372576124135521597349069651383794851325010416710260107676072534641675914755856394625326398205929945884504047495973667145516400967837427410569824915452690534966916643684510953264215954129496737454545873749267623849231177097373301319560307146165238020877196467100747614272700301795072702297687716408843679038610252637921580448173220654893880811810400994924052179977782621222154675924959792608924128000431663666808054975447356061877125946771614449041724053786437196086836379082056011851438005008175682678787768529062184477439603976045367367724702368725988002838508747885103357361766166793101698750335718057)"
      ]
     },
     "execution_count": 15,
     "metadata": {},
     "output_type": "execute_result"
    }
   ],
   "source": [
    "c1 = cs.encrypt(plaintext=m1)\n",
    "c1"
   ]
  },
  {
   "cell_type": "code",
   "execution_count": 6,
   "metadata": {},
   "outputs": [
    {
     "data": {
      "text/plain": [
       "Ciphertext(695436587985324450972915211726484234598524081523394099852706380602186862600510829075018347147521304187479229919739803374788816481128838320418795307675740893351267894692144537232746837289615408927675563347447298500288511659109172231300830932258643747614406558547292527522847762464561678592948332903356017925473921653171537137512705609973333745648132450389106667334386744306157254164819979975859208546524286339507056912342098155757340943665184557003032368582145842036360377925665897561003030586154647183827179109589367645464942448747218786902470035691355465338181007221830353297480634365860470317495142232998166952731)"
      ]
     },
     "execution_count": 6,
     "metadata": {},
     "output_type": "execute_result"
    }
   ],
   "source": [
    "c2 = cs.encrypt(plaintext=m2)\n",
    "c2"
   ]
  },
  {
   "cell_type": "code",
   "execution_count": 7,
   "metadata": {},
   "outputs": [
    {
     "ename": "AssertionError",
     "evalue": "",
     "output_type": "error",
     "traceback": [
      "\u001b[1;31m---------------------------------------------------------------------------\u001b[0m",
      "\u001b[1;31mAssertionError\u001b[0m                            Traceback (most recent call last)",
      "Cell \u001b[1;32mIn[7], line 1\u001b[0m\n\u001b[1;32m----> 1\u001b[0m \u001b[38;5;28;01massert\u001b[39;00m cs\u001b[38;5;241m.\u001b[39mdecrypt(c1) \u001b[38;5;241m==\u001b[39m m1\n\u001b[0;32m      2\u001b[0m \u001b[38;5;28;01massert\u001b[39;00m cs\u001b[38;5;241m.\u001b[39mdecrypt(c2) \u001b[38;5;241m==\u001b[39m m2\n",
      "\u001b[1;31mAssertionError\u001b[0m: "
     ]
    }
   ],
   "source": [
    "assert cs.decrypt(c1) == m1\n",
    "assert cs.decrypt(c2) == m2\n"
   ]
  },
  {
   "cell_type": "code",
   "execution_count": 14,
   "metadata": {},
   "outputs": [],
   "source": [
    "assert cs.decrypt(c1 * c2) == m1 * m2"
   ]
  },
  {
   "cell_type": "code",
   "execution_count": 78,
   "metadata": {},
   "outputs": [],
   "source": [
    "cs_additively = LightPHE(algorithm_name=\"Paillier\")"
   ]
  },
  {
   "cell_type": "code",
   "execution_count": 79,
   "metadata": {},
   "outputs": [],
   "source": [
    "m1 = 17\n",
    "m2 = 23"
   ]
  },
  {
   "cell_type": "code",
   "execution_count": 80,
   "metadata": {},
   "outputs": [
    {
     "data": {
      "text/plain": [
       "Ciphertext(25564345704926000745887498885731164663081809735998249703127192715242015208449020096670523951499950649410525770210066890474251966544383504628059121358325200288444361058258034857825236042499872604250130218103522172837725642204132854566220189773634287675488328121414424313728709337536715095743859398226083278611756452020233098979786158955487601193567528034315434889518699237569738418296193894507860126088753856877931511069990382983033337539297183970731322540346033660958312656421631336591066916901398146353665955283611185683860597792026033030733061945875185436594915730276105008420146322285880888176577972379934569333)"
      ]
     },
     "execution_count": 80,
     "metadata": {},
     "output_type": "execute_result"
    }
   ],
   "source": [
    "c1 = cs_additively.encrypt(plaintext=m1)\n",
    "c1"
   ]
  },
  {
   "cell_type": "code",
   "execution_count": 81,
   "metadata": {},
   "outputs": [
    {
     "data": {
      "text/plain": [
       "Ciphertext(65029512504154443631458151026624784055068696876413031708143854953040296430938990105747140313922541596387601548288340572350803041192817709737852177602976175463718286325516083374251150971800211512438867839978163146205699087190885075335727719926287828710434222151486452426604863639635580663344753156870298349210313674596187886740482498842528412351819005701334613377857416506768009097512849391436353608407715165533076876806255942776519843390529654879686568064549506064694549164022329792005310010818138050955384251855932405684195396457702171099860434261885738264701887089933160201616461990620812018732350805921313251074)"
      ]
     },
     "execution_count": 81,
     "metadata": {},
     "output_type": "execute_result"
    }
   ],
   "source": [
    "c2 = cs_additively.encrypt(plaintext=m2)\n",
    "c2"
   ]
  },
  {
   "cell_type": "code",
   "execution_count": 82,
   "metadata": {},
   "outputs": [
    {
     "data": {
      "text/plain": [
       "40"
      ]
     },
     "execution_count": 82,
     "metadata": {},
     "output_type": "execute_result"
    }
   ],
   "source": [
    "c3 = c1 + c2\n",
    "cs_additively.decrypt(c3)"
   ]
  },
  {
   "cell_type": "code",
   "execution_count": 73,
   "metadata": {},
   "outputs": [
    {
     "data": {
      "text/plain": [
       "85"
      ]
     },
     "execution_count": 73,
     "metadata": {},
     "output_type": "execute_result"
    }
   ],
   "source": [
    "cs_additively.decrypt(c1 * 5)"
   ]
  },
  {
   "cell_type": "code",
   "execution_count": 66,
   "metadata": {},
   "outputs": [
    {
     "data": {
      "text/plain": [
       "85"
      ]
     },
     "execution_count": 66,
     "metadata": {},
     "output_type": "execute_result"
    }
   ],
   "source": [
    "m1 * (5)"
   ]
  },
  {
   "cell_type": "code",
   "execution_count": 77,
   "metadata": {},
   "outputs": [
    {
     "name": "stdout",
     "output_type": "stream",
     "text": [
      "Encrypted average: 2.0\n",
      "Plain average: 2.0\n"
     ]
    }
   ],
   "source": [
    "from lightphe import LightPHE\n",
    "\n",
    "# Initialize the cryptosystem\n",
    "cs_additively = LightPHE(algorithm_name=\"Paillier\")\n",
    "\n",
    "# Define our scaling factor (e.g., 1000 for 3 decimal places)\n",
    "SCALE = 1000\n",
    "\n",
    "# Our values\n",
    "values = [1, 2, 3]\n",
    "\n",
    "# Encrypt scaled values\n",
    "encrypted_values = [cs_additively.encrypt(v * SCALE) for v in values]\n",
    "\n",
    "# Sum the encrypted values\n",
    "encrypted_sum = sum(encrypted_values[1:], start=encrypted_values[0])\n",
    "\n",
    "# Calculate the modular multiplicative inverse of 3\n",
    "n = cs_additively.cs.keys['public_key']['n']\n",
    "inverse_3 = pow(3, -1, n)\n",
    "\n",
    "# Multiply the sum by the inverse (equivalent to division by 3)\n",
    "encrypted_average = encrypted_sum * inverse_3\n",
    "\n",
    "# Decrypt the result\n",
    "decrypted_scaled_average = cs_additively.decrypt(encrypted_average)\n",
    "\n",
    "# Scale down and round to get the final result\n",
    "final_average = round(decrypted_scaled_average / SCALE, 3)\n",
    "\n",
    "print(f\"Encrypted average: {final_average}\")\n",
    "\n",
    "# Verify with plain calculation\n",
    "plain_average = sum(values) / len(values)\n",
    "print(f\"Plain average: {plain_average}\")\n",
    "\n",
    "assert abs(final_average - plain_average) < 0.001, \"Results don't match within tolerance\""
   ]
  }
 ],
 "metadata": {
  "kernelspec": {
   "display_name": "Python 3",
   "language": "python",
   "name": "python3"
  },
  "language_info": {
   "codemirror_mode": {
    "name": "ipython",
    "version": 3
   },
   "file_extension": ".py",
   "mimetype": "text/x-python",
   "name": "python",
   "nbconvert_exporter": "python",
   "pygments_lexer": "ipython3",
   "version": "3.11.0"
  }
 },
 "nbformat": 4,
 "nbformat_minor": 2
}
